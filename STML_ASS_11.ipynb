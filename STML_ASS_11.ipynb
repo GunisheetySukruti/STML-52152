{
  "nbformat": 4,
  "nbformat_minor": 0,
  "metadata": {
    "colab": {
      "provenance": [],
      "authorship_tag": "ABX9TyPqrvspKzXQpH3Fmk7RLDNv",
      "include_colab_link": true
    },
    "kernelspec": {
      "name": "python3",
      "display_name": "Python 3"
    },
    "language_info": {
      "name": "python"
    }
  },
  "cells": [
    {
      "cell_type": "markdown",
      "metadata": {
        "id": "view-in-github",
        "colab_type": "text"
      },
      "source": [
        "<a href=\"https://colab.research.google.com/github/GunisheetySukruti/STML-52152/blob/main/STML_ASS_11.ipynb\" target=\"_parent\"><img src=\"https://colab.research.google.com/assets/colab-badge.svg\" alt=\"Open In Colab\"/></a>"
      ]
    },
    {
      "cell_type": "code",
      "execution_count": 1,
      "metadata": {
        "id": "wAp_0qRSyDZs",
        "colab": {
          "base_uri": "https://localhost:8080/"
        },
        "outputId": "f540887e-ddf2-4b36-a48b-e8403d27f806"
      },
      "outputs": [
        {
          "output_type": "stream",
          "name": "stdout",
          "text": [
            "Mounted at /content/drive\n"
          ]
        }
      ],
      "source": [
        "from google.colab import drive\n",
        "drive.mount('/content/drive')\n"
      ]
    },
    {
      "cell_type": "code",
      "source": [
        "## Import required libraries\n",
        "import pandas as pd\n",
        "from sklearn.model_selection import train_test_split\n",
        "from sklearn.preprocessing import StandardScaler\n",
        "from sklearn.decomposition import PCA\n",
        "from sklearn.svm import SVC\n",
        "from sklearn.neighbors import KNeighborsClassifier\n",
        "from sklearn.linear_model import LogisticRegression\n",
        "from sklearn.metrics import accuracy_score\n",
        "# explicitly import preprocessing for OneHotEncoder\n",
        "from sklearn import preprocessing\n",
        "\n",
        "# Step 1: Load the dataset\n",
        "url = \"https://www.kaggle.com/datasets/kellistephenson/increasing-breast-cancer-awareness\"  # Replace with actual dataset URL or file path\n",
        "data = pd.read_csv('/content/archive.zip') # The line was commented out, causing the error. Uncommenting and updating the path will fix the error. Please replace 'increasing_breast_cancer_awareness.csv' with the actual path to your downloaded dataset if it's different.\n",
        "\n",
        "\n",
        "# Step 2: Check the data\n",
        "print(data.head())\n",
        "print(data.info())\n",
        "\n",
        "# Step 3: Identify the target and feature variables\n",
        "# Assume 'diagnosis' is the target column, replace with the actual column name from the dataset if different\n",
        "# The original code assumed the column was named 'target', but it's likely 'diagnosis' based on the dataset description.\n",
        "X = data.drop(columns=['Age','Gender'])  # Features\n",
        "y = data['Age']  # Target variable\n",
        "\n",
        "# Convert categorical features to numerical using one-hot encoding\n",
        "categorical_cols = X.select_dtypes(include=['object']).columns\n",
        "\n",
        "# Create OneHotEncoder object\n",
        "encoder = preprocessing.OneHotEncoder(sparse_output=False, handle_unknown='ignore') # sparse=False for compatibility with PCA\n",
        "\n",
        "# Fit and transform the categorical features\n",
        "encoded_data = encoder.fit_transform(X[categorical_cols])\n",
        "\n",
        "# Create a DataFrame from the encoded data\n",
        "encoded_df = pd.DataFrame(encoded_data, columns=encoder.get_feature_names_out(categorical_cols))\n",
        "\n",
        "# Drop original categorical features and concatenate encoded features\n",
        "X = X.drop(columns=categorical_cols)\n",
        "X = pd.concat([X, encoded_df], axis=1)\n",
        "\n",
        "# Step 4: Split the dataset into training and testing sets\n",
        "X_train, X_test, y_train, y_test = train_test_split(X, y, test_size=0.2, random_state=42)\n",
        "\n",
        "# Step 5: Standardize the data (important for PCA and distance-based models like KNN and SVM)\n",
        "scaler = StandardScaler()\n",
        "X_train_scaled = scaler.fit_transform(X_train)\n",
        "X_test_scaled = scaler.transform(X_test)\n",
        "\n",
        "# Step 6: Train and evaluate models without PCA\n",
        "\n",
        "# SVM\n",
        "svm = SVC(kernel='linear')  # You can experiment with different kernels like 'rbf', 'poly', etc.\n",
        "svm.fit(X_train_scaled, y_train)\n",
        "svm_preds = svm.predict(X_test_scaled)\n",
        "svm_accuracy = accuracy_score(y_test, svm_preds)\n",
        "print(f\"SVM Accuracy without PCA: {svm_accuracy:.4f}\")\n",
        "\n",
        "# KNN\n",
        "knn = KNeighborsClassifier(n_neighbors=5)\n",
        "knn.fit(X_train_scaled, y_train)\n",
        "knn_preds = knn.predict(X_test_scaled)\n",
        "knn_accuracy = accuracy_score(y_test, knn_preds)\n",
        "print(f\"KNN Accuracy without PCA: {knn_accuracy:.4f}\")\n",
        "\n",
        "\n",
        "# Logistic Regression\n",
        "logreg = LogisticRegression()\n",
        "logreg.fit(X_train_scaled, y_train)\n",
        "logreg_preds = logreg.predict(X_test_scaled)\n",
        "logreg_accuracy = accuracy_score(y_test, logreg_preds)\n",
        "print(f\"Logistic Regression Accuracy without PCA: {logreg_accuracy:.4f}\")\n",
        "\n",
        "# Step 7: Apply PCA for dimensionality reduction\n",
        "pca = PCA(n_components=0.95)  # Retaining 95% of the variance\n",
        "X_train_pca = pca.fit_transform(X_train_scaled)\n",
        "X_test_pca = pca.transform(X_test_scaled)\n",
        "# Step 8: Train and evaluate models with PCA\n",
        "\n",
        "# SVM\n",
        "svm_pca = SVC(kernel='linear')\n",
        "svm_pca.fit(X_train_pca, y_train)\n",
        "svm_pca_preds = svm_pca.predict(X_test_pca)\n",
        "svm_pca_accuracy = accuracy_score(y_test, svm_pca_preds)\n",
        "print(f\"SVM Accuracy with PCA: {svm_pca_accuracy:.4f}\")\n",
        "\n",
        "# KNN\n",
        "knn_pca = KNeighborsClassifier(n_neighbors=5)\n",
        "knn_pca.fit(X_train_pca, y_train)\n",
        "knn_pca_preds = knn_pca.predict(X_test_pca)\n",
        "knn_pca_accuracy = accuracy_score(y_test, knn_pca_preds)\n",
        "print(f\"KNN Accuracy with PCA: {knn_pca_accuracy:.4f}\")\n",
        "\n",
        "# Logistic Regression\n",
        "logreg_pca = LogisticRegression()\n",
        "logreg_pca.fit(X_train_pca, y_train)\n",
        "logreg_pca_preds = logreg_pca.predict(X_test_pca)\n",
        "logreg_pca_accuracy = accuracy_score(y_test, logreg_pca_preds)\n",
        "print(f\"Logistic Regression Accuracy with PCA: {logreg_pca_accuracy:.4f}\")\n"
      ],
      "metadata": {
        "colab": {
          "base_uri": "https://localhost:8080/"
        },
        "id": "TbU2Cgbe429B",
        "outputId": "f3adfde0-4994-4d76-a20e-8549327f7551"
      },
      "execution_count": 11,
      "outputs": [
        {
          "output_type": "stream",
          "name": "stdout",
          "text": [
            "   Age  Gender  Protein1  Protein2  Protein3  Protein4 Tumour_Stage  \\\n",
            "0   42  FEMALE   0.95256   2.15000  0.007972 -0.048340           II   \n",
            "1   54  FEMALE   0.00000   1.38020 -0.498030 -0.507320           II   \n",
            "2   63  FEMALE  -0.52303   1.76400 -0.370190  0.010815           II   \n",
            "3   78  FEMALE  -0.87618   0.12943 -0.370380  0.132190            I   \n",
            "4   42  FEMALE   0.22611   1.74910 -0.543970 -0.390210           II   \n",
            "\n",
            "                       Histology ER status PR status HER2 status Surgery_type  \\\n",
            "0  Infiltrating Ductal Carcinoma  Positive  Positive    Negative        Other   \n",
            "1  Infiltrating Ductal Carcinoma  Positive  Positive    Negative        Other   \n",
            "2  Infiltrating Ductal Carcinoma  Positive  Positive    Negative   Lumpectomy   \n",
            "3  Infiltrating Ductal Carcinoma  Positive  Positive    Negative        Other   \n",
            "4  Infiltrating Ductal Carcinoma  Positive  Positive    Positive   Lumpectomy   \n",
            "\n",
            "  Date_of_Surgery Date_of_Last_Visit Patient_Status  \n",
            "0       20-May-18          26-Aug-18          Alive  \n",
            "1       26-Apr-18          25-Jan-19           Dead  \n",
            "2       24-Aug-18          08-Apr-20          Alive  \n",
            "3       16-Nov-18          28-Jul-20          Alive  \n",
            "4       12-Dec-18          05-Jan-19          Alive  \n",
            "<class 'pandas.core.frame.DataFrame'>\n",
            "RangeIndex: 334 entries, 0 to 333\n",
            "Data columns (total 15 columns):\n",
            " #   Column              Non-Null Count  Dtype  \n",
            "---  ------              --------------  -----  \n",
            " 0   Age                 334 non-null    int64  \n",
            " 1   Gender              334 non-null    object \n",
            " 2   Protein1            334 non-null    float64\n",
            " 3   Protein2            334 non-null    float64\n",
            " 4   Protein3            334 non-null    float64\n",
            " 5   Protein4            334 non-null    float64\n",
            " 6   Tumour_Stage        334 non-null    object \n",
            " 7   Histology           334 non-null    object \n",
            " 8   ER status           334 non-null    object \n",
            " 9   PR status           334 non-null    object \n",
            " 10  HER2 status         334 non-null    object \n",
            " 11  Surgery_type        334 non-null    object \n",
            " 12  Date_of_Surgery     334 non-null    object \n",
            " 13  Date_of_Last_Visit  317 non-null    object \n",
            " 14  Patient_Status      321 non-null    object \n",
            "dtypes: float64(4), int64(1), object(10)\n",
            "memory usage: 39.3+ KB\n",
            "None\n",
            "SVM Accuracy without PCA: 0.0299\n",
            "KNN Accuracy without PCA: 0.0299\n",
            "Logistic Regression Accuracy without PCA: 0.0299\n",
            "SVM Accuracy with PCA: 0.0299\n",
            "KNN Accuracy with PCA: 0.0299\n",
            "Logistic Regression Accuracy with PCA: 0.0299\n"
          ]
        }
      ]
    }
  ]
}